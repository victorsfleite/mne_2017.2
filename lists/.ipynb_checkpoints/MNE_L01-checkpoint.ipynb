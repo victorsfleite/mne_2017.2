{
 "cells": [
  {
   "cell_type": "markdown",
   "metadata": {},
   "source": [
    "# Lista de Exercícios 1\n",
    "\n",
    "Métodos Numéricos para Engenharia - Turma D  \n",
    "Nome: Victor da Silva Fonseca Leite\n",
    "Matrícula: 16/0147191"
   ]
  },
  {
   "cell_type": "markdown",
   "metadata": {},
   "source": [
    "Observações:\n",
    "\n",
    "0. A lista de exercícios deve ser entregue no moodle da disciplina.\n",
    "0. A lista de exercícios deve ser respondida neste único arquivo (.ipynb). Responda a cada questão na célula imediatamente abaixo do seu enunciado.\n",
    "0. Não se esqueça de alterar o nome do arquivo e o cabeçalho acima, colocando seu nome e matrícula.\n",
    "0. A lista é uma atividade avaliativa e individual. Não será tolerado qualquer tipo de plágio."
   ]
  },
  {
   "cell_type": "code",
   "execution_count": 1,
   "metadata": {},
   "outputs": [
    {
     "name": "stdout",
     "output_type": "stream",
     "text": [
      "Populating the interactive namespace from numpy and matplotlib\n"
     ]
    }
   ],
   "source": [
    "# Deixe-me incluir o conjunto de módulos do Python científico para você.\n",
    "%pylab inline"
   ]
  },
  {
   "cell_type": "markdown",
   "metadata": {},
   "source": [
    "---\n",
    "\n",
    "## Questão 01\n",
    "\n",
    "(Fonte: Problema 1015 do URI Online Judge) Leia quatro valores correspondentes aos eixos $x$ e $y$ de dois\n",
    "pontos quaisquer no plano: ($x_1$,$y_1$) e ($x_2$,$y_2$) e calcule a distância ($D$) entre eles, mostrando-a com 4 casas decimais após a vírgula, segundo a fórmula:\n",
    "\n",
    "$$ D = \\sqrt{(x_2 - x_1)^2 + (y_2 - y_1)^2} $$\n",
    "\n",
    "### Entrada\n",
    "\n",
    "O arquivo de entrada contém duas linhas de dados. A primeira linha contém dois valores de ponto flutuante: $x_1$ e $y_1$ e a segunda linha contém dois valores de ponto flutuante $x_2$ e $y_2$.\n",
    "\n",
    "### Saída\n",
    "\n",
    "Calcule e imprima o valor da distância segundo a fórmula fornecida, com 4 casas após o ponto decimal.\n",
    "\n",
    "#### Entrada de Teste\n",
    "1.0 7.0  \n",
    "5.0 9.0\n",
    "\n",
    "#### Saída de Teste\n",
    "4.4721"
   ]
  },
  {
   "cell_type": "code",
   "execution_count": 6,
   "metadata": {},
   "outputs": [
    {
     "name": "stdout",
     "output_type": "stream",
     "text": [
      "1.0 7.0\n",
      "5.0 9.0\n",
      "4.4721\n"
     ]
    }
   ],
   "source": [
    "from math import sqrt\n",
    "\n",
    "\n",
    "def calculateSquaredDifference(p_first_term, p_second_term):\n",
    "    return (p_first_term - p_second_term) * (p_first_term - p_second_term)\n",
    "\n",
    "\n",
    "def calculateDistance(p_x1, p_y1, p_x2, p_y2):\n",
    "    return sqrt(calculateSquaredDifference(p_x2, p_x1) + calculateSquaredDifference(p_y2, p_y1))\n",
    "\n",
    "\n",
    "if __name__ == '__main__':\n",
    "    x1, y1 = [float(number) for number in input().split()]\n",
    "    x2, y2 = [float(number) for number in input().split()]\n",
    "\n",
    "    print('{0:.4f}'.format(calculateDistance(x1, y1, x2, y2)))\n"
   ]
  },
  {
   "cell_type": "markdown",
   "metadata": {
    "collapsed": true
   },
   "source": [
    "---\n",
    "\n",
    "## Questão 02\n",
    "\n",
    "(Fonte: Problema 1037 do URI Online Judge) Você deve fazer um programa que leia um valor qualquer e apresente uma mensagem dizendo em qual dos seguintes intervalos ($[0,25]$, $(25,50]$, $(50,75]$, $(75,100]$) este valor se encontra. Obviamente se o valor não estiver em nenhum destes intervalos, deverá ser impressa a mensagem “Fora de intervalo”.\n",
    "\n",
    "### Entrada\n",
    "\n",
    "O arquivo de entrada contém um número com ponto flutuante qualquer.\n",
    "\n",
    "### Saída\n",
    "\n",
    "A saída deve ser uma mensagem conforme exemplo abaixo.\n",
    "\n",
    "#### Entradas de Teste\n",
    "25.01\n",
    "\n",
    "#### Saídas de Teste\n",
    "Intervalo (25,50]"
   ]
  },
  {
   "cell_type": "code",
   "execution_count": 8,
   "metadata": {},
   "outputs": [
    {
     "name": "stdout",
     "output_type": "stream",
     "text": [
      "0\n",
      "Intervalo [0,25]\n"
     ]
    }
   ],
   "source": [
    "value = float(input())\n",
    "\n",
    "options = [float(item) for item in range(0, 101, 25)]\n",
    "\n",
    "if (value == 0):\n",
    "    print('Intervalo [{},{}]'.format(int(options[0]), int(options[1])))\n",
    "\n",
    "elif (0 < value <= options[-1]):\n",
    "    for i in range(len(options) - 1):\n",
    "        if (options[i] < value <= options[i + 1]):\n",
    "            print('Intervalo ({},{}]'.format(int(options[i]), int(options[i + 1])))\n",
    "            break\n",
    "\n",
    "else:\n",
    "    print('Fora de intervalo')"
   ]
  },
  {
   "cell_type": "markdown",
   "metadata": {},
   "source": [
    "---\n",
    "\n",
    "## Questão 03\n",
    "\n",
    "(Fonte: Problema 1037 do URI Online Judge, adaptado) Leia $N$ valores inteiros. Apresente então o maior valor lido e a posição dentre os $N$ valores lidos.\n",
    "\n",
    "### Entrada\n",
    "\n",
    "A primeira linha do arquivo de entrada contém um inteiro positivo $N$ que indica a quantidade de números a serem lidos. As próximas $N$ linhas contém um número inteiro positivo cada.\n",
    "\n",
    "### Saída\n",
    "\n",
    "Apresente o maior valor lido e a posição de entrada, conforme exemplo abaixo.\n",
    "\n",
    "#### Entrada de Teste\n",
    "3  \n",
    "34565  \n",
    "1341  \n",
    "45\n",
    "\n",
    "#### Saída de Teste\n",
    "34565  \n",
    "1"
   ]
  },
  {
   "cell_type": "code",
   "execution_count": 13,
   "metadata": {},
   "outputs": [
    {
     "name": "stdout",
     "output_type": "stream",
     "text": [
      "3\n",
      "34565\n",
      "1341\n",
      "45\n",
      "34565\n",
      "1\n"
     ]
    }
   ],
   "source": [
    "qtde = int(input())\n",
    "values = {}\n",
    "\n",
    "for i in range(qtde):\n",
    "    value = int(input())\n",
    "    values[i + 1] = value\n",
    "\n",
    "highest = max(values, key=values.get)\n",
    "print('{}\\n{}'.format(values[highest], highest))\n"
   ]
  },
  {
   "cell_type": "markdown",
   "metadata": {},
   "source": [
    "---\n",
    "\n",
    "## Questão 04\n",
    "\n",
    "Dada uma string, verifique se ela é um palíndromo ou não. Palíndromos são strings lidas iguais, tanto de frente\n",
    "para trás quanto de trás para frente. Exemplos: \"ovo\", \"subi no onibus\", \"somos\", \"aaa\".\n",
    "\n",
    "### Entrada\n",
    "\n",
    "A entrada consiste de uma única string contendo apenas caracteres alfabéticos minúsculos e sem acentos.\n",
    "\n",
    "### Saída\n",
    "\n",
    "Imprima \"Palindromo encontrado\" caso a string seja um palíndromo ou \"Palindromo nao encontrado\", caso contrário.\n",
    "\n",
    "#### Entrada de Teste\n",
    "ovo\n",
    "\n",
    "#### Saída de Teste\n",
    "Palindromo encontrado"
   ]
  },
  {
   "cell_type": "code",
   "execution_count": 3,
   "metadata": {},
   "outputs": [
    {
     "name": "stdout",
     "output_type": "stream",
     "text": [
      "ovo\n",
      "Palindromo encontrado\n"
     ]
    }
   ],
   "source": [
    "string = input().replace(' ', '')\n",
    "inverse = string[::-1]\n",
    "\n",
    "if string == inverse:\n",
    "    print('Palindromo encontrado')\n",
    "\n",
    "else:\n",
    "    print('Palindromo nao encontrado')\n"
   ]
  },
  {
   "cell_type": "markdown",
   "metadata": {},
   "source": [
    "---\n",
    "\n",
    "## Questão 05\n",
    "\n",
    "Iniciando a utilização do módulo _numpy_. Resolva os exercícios abaixo."
   ]
  },
  {
   "cell_type": "markdown",
   "metadata": {},
   "source": [
    "**5.1.** Defina uma variável $x$ e atribua algum valor numérico a ela. Compute os valores de $x^2$ e $x^3$."
   ]
  },
  {
   "cell_type": "code",
   "execution_count": 9,
   "metadata": {},
   "outputs": [
    {
     "name": "stdout",
     "output_type": "stream",
     "text": [
      "Define a numeric value: 25\n",
      "x² = 625.0\n",
      "x³ = 15625.0\n"
     ]
    }
   ],
   "source": [
    "x = np.array(float(input('Define a numeric value: ')))\n",
    "\n",
    "print('x² = {}\\nx³ = {}'.format(np.power(x, 2), np.power(x, 3)))\n"
   ]
  },
  {
   "cell_type": "markdown",
   "metadata": {},
   "source": [
    "**5.2.** Defina um ângulo ($0 \\leq \\theta \\leq 2\\pi$) e atribua-o a uma variável $angle$. Compute os valores de $sin(\\theta)$ e $cos(\\theta)$ em radianos."
   ]
  },
  {
   "cell_type": "code",
   "execution_count": 2,
   "metadata": {},
   "outputs": [
    {
     "name": "stdout",
     "output_type": "stream",
     "text": [
      "Define an angle (0 ≤ θ ≤ 2π): 0\n",
      "sin(θ) = 0.0\n",
      "cos(θ) = 1.0\n"
     ]
    }
   ],
   "source": [
    "angle = np.array(float(input('Define an angle (0 ≤ θ ≤ 2π): ')))\n",
    "\n",
    "print('sin(θ) = {}\\ncos(θ) = {}'.format(np.sin(angle), np.cos(angle)))"
   ]
  },
  {
   "cell_type": "markdown",
   "metadata": {},
   "source": [
    "**5.3.** Utilizando a função `linspace()`, crie um vetor $X$ com 500 elementos linearmente espaçados entre 0 e 10. Imprima o valor do 87º elemento do vetor $X$."
   ]
  },
  {
   "cell_type": "code",
   "execution_count": 34,
   "metadata": {},
   "outputs": [
    {
     "name": "stdout",
     "output_type": "stream",
     "text": [
      "1.74348697395\n"
     ]
    }
   ],
   "source": [
    "X = np.linspace(0, 10, 500)\n",
    "\n",
    "print(X[87])"
   ]
  },
  {
   "cell_type": "markdown",
   "metadata": {},
   "source": [
    "**5.4.** Crie um vetor $V$ com 50 elementos ${V_0, V_1, ..., V_{49}}$. Onde cada elemento $V_i = i^2$."
   ]
  },
  {
   "cell_type": "code",
   "execution_count": 35,
   "metadata": {},
   "outputs": [
    {
     "name": "stdout",
     "output_type": "stream",
     "text": [
      "[   0    1    4    9   16   25   36   49   64   81  100  121  144  169  196\n",
      "  225  256  289  324  361  400  441  484  529  576  625  676  729  784  841\n",
      "  900  961 1024 1089 1156 1225 1296 1369 1444 1521 1600 1681 1764 1849 1936\n",
      " 2025 2116 2209 2304 2401]\n"
     ]
    }
   ],
   "source": [
    "V = np.power(np.linspace(0, 49, 50).astype(int), 2)\n",
    "\n",
    "print(V)"
   ]
  },
  {
   "cell_type": "markdown",
   "metadata": {},
   "source": [
    "**5.5.** Defina o seguinte vetor e a seguinte matriz:  \n",
    "`V = np.array([5., 8., 13.])`  \n",
    "`M = np.array([[1., 1., 2.], [3., 5., 8.], [13., 21., 34.]])`  \n",
    "Em seguida, mostre os seus respectivos formatos com a função `shape()`."
   ]
  },
  {
   "cell_type": "code",
   "execution_count": null,
   "metadata": {
    "collapsed": true
   },
   "outputs": [],
   "source": []
  },
  {
   "cell_type": "markdown",
   "metadata": {},
   "source": [
    "**5.6.** Multiplique o vetor `V` por uma constante e o imprima utilizando a função `print()`."
   ]
  },
  {
   "cell_type": "code",
   "execution_count": null,
   "metadata": {
    "collapsed": true
   },
   "outputs": [],
   "source": []
  },
  {
   "cell_type": "markdown",
   "metadata": {},
   "source": [
    "**5.7.** Crie um segundo vetor $U$, tal que: $U_i = cos(V_i)$."
   ]
  },
  {
   "cell_type": "code",
   "execution_count": null,
   "metadata": {
    "collapsed": true
   },
   "outputs": [],
   "source": []
  },
  {
   "cell_type": "markdown",
   "metadata": {},
   "source": [
    "**5.8.** Crie um terceiro vetor $R$, tal que $R$ seja alguma combinação linear dos vetores $U$ e $V$. Em seguida, imprima o vetor $R$."
   ]
  },
  {
   "cell_type": "code",
   "execution_count": null,
   "metadata": {
    "collapsed": true
   },
   "outputs": [],
   "source": []
  },
  {
   "cell_type": "markdown",
   "metadata": {},
   "source": [
    "**5.9** Utilize a função `dot()` para realizar a multiplicação matricial entre a matriz $M$ e o vetor $V$ e guarde o resultado no vetor $U$."
   ]
  },
  {
   "cell_type": "code",
   "execution_count": null,
   "metadata": {
    "collapsed": true
   },
   "outputs": [],
   "source": []
  },
  {
   "cell_type": "markdown",
   "metadata": {},
   "source": [
    "**5.10** Compute e imprima os valores da transposta, inversa e determinante da matriz $M$."
   ]
  },
  {
   "cell_type": "code",
   "execution_count": null,
   "metadata": {
    "collapsed": true
   },
   "outputs": [],
   "source": []
  },
  {
   "cell_type": "markdown",
   "metadata": {},
   "source": [
    "**5.11.** Encontre o menor elemento da matriz $M$."
   ]
  },
  {
   "cell_type": "code",
   "execution_count": null,
   "metadata": {
    "collapsed": true
   },
   "outputs": [],
   "source": []
  },
  {
   "cell_type": "markdown",
   "metadata": {},
   "source": [
    "**5.12.** A função `np.random.rand` pode ser usada para criar vetores e matrizes de números aleatórios. Utilize tal função para criar uma matriz 5x5."
   ]
  },
  {
   "cell_type": "code",
   "execution_count": null,
   "metadata": {
    "collapsed": true
   },
   "outputs": [],
   "source": []
  },
  {
   "cell_type": "markdown",
   "metadata": {},
   "source": [
    "---\n",
    "\n",
    "## Questão 06\n",
    "\n",
    "Iniciando a utilização do módulo _matplotlib_. Resolva os exercícios abaixo."
   ]
  },
  {
   "cell_type": "markdown",
   "metadata": {},
   "source": [
    "**6.1.** Redefina a variável $X$ da questão 5.4 e confeccione o gráfico $Y = sin(X)$."
   ]
  },
  {
   "cell_type": "code",
   "execution_count": null,
   "metadata": {
    "collapsed": true
   },
   "outputs": [],
   "source": []
  },
  {
   "cell_type": "markdown",
   "metadata": {},
   "source": [
    "**6.2.** Utilize a função `plt.plot()` para confeccionar o gráfico com as funções $f(x) = xe^{-x}$ e $g(x) = sin(\\pi x)e^{-x}$ no intervalo $[0, 10]$. Dê um título à imagem, legendas às funções $f$ e $g$ e rótulos aos eixos $x$ e $y$."
   ]
  },
  {
   "cell_type": "code",
   "execution_count": null,
   "metadata": {
    "collapsed": true
   },
   "outputs": [],
   "source": []
  }
 ],
 "metadata": {
  "kernelspec": {
   "display_name": "Python 3",
   "language": "python",
   "name": "python3"
  },
  "language_info": {
   "codemirror_mode": {
    "name": "ipython",
    "version": 3
   },
   "file_extension": ".py",
   "mimetype": "text/x-python",
   "name": "python",
   "nbconvert_exporter": "python",
   "pygments_lexer": "ipython3",
   "version": "3.5.3"
  }
 },
 "nbformat": 4,
 "nbformat_minor": 2
}
